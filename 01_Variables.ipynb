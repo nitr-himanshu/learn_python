{
 "cells": [
  {
   "cell_type": "markdown",
   "metadata": {},
   "source": [
    "# Variable\n",
    "\n",
    "- Dynamic typing : Type of variable decided by compiler at runtime.\n",
    "- No command for declaration.\n",
    "- Variable name is case sensitive.\n",
    "- Variable cannot start with a number, can only contain alpha-numeric character and underscore.\n",
    "- Variable name cannot be any of python keywords."
   ]
  },
  {
   "cell_type": "code",
   "execution_count": null,
   "metadata": {},
   "outputs": [],
   "source": [
    "# Throw error as x is not defined\n",
    "x"
   ]
  },
  {
   "cell_type": "code",
   "execution_count": null,
   "metadata": {},
   "outputs": [],
   "source": [
    "# Define variable y\n",
    "y = 4\n",
    "print(y)"
   ]
  },
  {
   "cell_type": "markdown",
   "metadata": {},
   "source": [
    "## casting\n",
    "\n",
    "- Convert variable/value in desired data type."
   ]
  },
  {
   "cell_type": "code",
   "execution_count": null,
   "metadata": {},
   "outputs": [],
   "source": [
    "v1 = str(3)\n",
    "v2 = int(4)\n",
    "v3 = float(5)"
   ]
  },
  {
   "cell_type": "markdown",
   "metadata": {},
   "source": [
    "## type\n",
    "\n",
    "- we can check type of variable using **type** function"
   ]
  },
  {
   "cell_type": "code",
   "execution_count": null,
   "metadata": {},
   "outputs": [],
   "source": [
    "print(type(v1))\n",
    "print(type(v2))\n",
    "print(type(v3))"
   ]
  },
  {
   "cell_type": "markdown",
   "metadata": {},
   "source": [
    "## Many values to Multiple variable"
   ]
  },
  {
   "cell_type": "code",
   "execution_count": null,
   "metadata": {},
   "outputs": [],
   "source": [
    "v1, v2, v3 = 2, \"wow\", 3.4\n",
    "print(type(v1))\n",
    "print(type(v2))\n",
    "print(type(v3))"
   ]
  },
  {
   "cell_type": "markdown",
   "metadata": {},
   "source": [
    "## One value to multiple variables"
   ]
  },
  {
   "cell_type": "code",
   "execution_count": null,
   "metadata": {},
   "outputs": [],
   "source": [
    "v1 = v2 = v3 = 3.4\n",
    "print(v1)\n",
    "print(v2)\n",
    "print(v3)\n",
    "print(type(v1))\n",
    "print(type(v2))\n",
    "print(type(v3))"
   ]
  },
  {
   "cell_type": "markdown",
   "metadata": {},
   "source": [
    "## Scope\n",
    "\n",
    "- Location where we can find and access the variable is called **scope of a variable.**\n",
    "- There are two scopes :\n",
    "  1. Global scope : Variables defined outside of any function. It can be access in any part of the script.\n",
    "  2. Local scope : Variables defined within a function. It cannot be accessed outside of the function."
   ]
  },
  {
   "cell_type": "code",
   "execution_count": 15,
   "metadata": {},
   "outputs": [
    {
     "name": "stdout",
     "output_type": "stream",
     "text": [
      "10\n",
      "100\n"
     ]
    }
   ],
   "source": [
    "globalVar = 100\n",
    "\n",
    "def foo():\n",
    "    localVar = 10\n",
    "    print(localVar)\n",
    "    print(globalVar)\n",
    "\n",
    "foo()"
   ]
  },
  {
   "cell_type": "markdown",
   "metadata": {},
   "source": [
    "## global keyword\n",
    "\n",
    "- To distinguish between global and local variable, when there is a conflict of scope, we can use global keyword.\n",
    "- Ex : \n",
    "  - access variable with same name for global and local variable\n",
    "  - change value of global variable in a function"
   ]
  },
  {
   "cell_type": "code",
   "execution_count": 20,
   "metadata": {},
   "outputs": [
    {
     "name": "stdout",
     "output_type": "stream",
     "text": [
      "global variable x =  1000\n",
      "100\n",
      "global variable x =  1000\n"
     ]
    }
   ],
   "source": [
    "x = 1000\n",
    "def accessGlobalVariable():\n",
    "    # print(x) # Throw error, as x is not defined in this scope\n",
    "    x = 100\n",
    "    print(\"Local variable x = \", x)\n",
    "\n",
    "print(\"global variable x = \", x)\n",
    "accessGlobalVariable()\n",
    "print(\"global variable x = \", x)"
   ]
  },
  {
   "cell_type": "code",
   "execution_count": 22,
   "metadata": {},
   "outputs": [
    {
     "name": "stdout",
     "output_type": "stream",
     "text": [
      "global variable x =  1000\n",
      "in fun, global variable x =  1000\n",
      "in fun, global variable x =  100\n",
      "global variable x =  100\n"
     ]
    }
   ],
   "source": [
    "x = 1000\n",
    "def accessGlobalVariable():\n",
    "    global x\n",
    "    print(\"in fun, global variable x = \", x)\n",
    "    x = 100\n",
    "    print(\"in fun, global variable x = \", x)\n",
    "\n",
    "print(\"global variable x = \", x)\n",
    "accessGlobalVariable()\n",
    "print(\"global variable x = \", x)"
   ]
  },
  {
   "cell_type": "code",
   "execution_count": null,
   "metadata": {},
   "outputs": [],
   "source": []
  }
 ],
 "metadata": {
  "kernelspec": {
   "display_name": "Python 3",
   "language": "python",
   "name": "python3"
  },
  "language_info": {
   "codemirror_mode": {
    "name": "ipython",
    "version": 3
   },
   "file_extension": ".py",
   "mimetype": "text/x-python",
   "name": "python",
   "nbconvert_exporter": "python",
   "pygments_lexer": "ipython3",
   "version": "3.11.4"
  },
  "orig_nbformat": 4
 },
 "nbformat": 4,
 "nbformat_minor": 2
}
